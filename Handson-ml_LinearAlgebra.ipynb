{
 "cells": [
  {
   "cell_type": "code",
   "execution_count": 1,
   "metadata": {},
   "outputs": [],
   "source": [
    "import numpy as np\n",
    "import matplotlib.pyplot as plt"
   ]
  },
  {
   "cell_type": "code",
   "execution_count": 2,
   "metadata": {},
   "outputs": [],
   "source": [
    "u = np.array([2, 5])\n",
    "v = np.array([3, 1])"
   ]
  },
  {
   "cell_type": "code",
   "execution_count": 3,
   "metadata": {},
   "outputs": [
    {
     "data": {
      "text/plain": [
       "11"
      ]
     },
     "execution_count": 3,
     "metadata": {},
     "output_type": "execute_result"
    }
   ],
   "source": [
    "u.dot(v)"
   ]
  },
  {
   "cell_type": "code",
   "execution_count": 4,
   "metadata": {},
   "outputs": [
    {
     "data": {
      "text/plain": [
       "11"
      ]
     },
     "execution_count": 4,
     "metadata": {},
     "output_type": "execute_result"
    }
   ],
   "source": [
    "np.dot(u, v)"
   ]
  },
  {
   "cell_type": "code",
   "execution_count": 5,
   "metadata": {},
   "outputs": [],
   "source": [
    "A = np.array([\n",
    "    [1, 2],\n",
    "    [3, 4]\n",
    "])\n",
    "B = np.array([\n",
    "    [3, 4, 5],\n",
    "    [6, 7, 8]\n",
    "])"
   ]
  },
  {
   "cell_type": "code",
   "execution_count": 6,
   "metadata": {},
   "outputs": [
    {
     "data": {
      "text/plain": [
       "array([[15, 18, 21],\n",
       "       [33, 40, 47]])"
      ]
     },
     "execution_count": 6,
     "metadata": {},
     "output_type": "execute_result"
    }
   ],
   "source": [
    "A.dot(B)"
   ]
  },
  {
   "cell_type": "code",
   "execution_count": 7,
   "metadata": {},
   "outputs": [
    {
     "data": {
      "text/plain": [
       "array([[15, 18, 21],\n",
       "       [33, 40, 47]])"
      ]
     },
     "execution_count": 7,
     "metadata": {},
     "output_type": "execute_result"
    }
   ],
   "source": [
    "np.dot(A, B)"
   ]
  },
  {
   "cell_type": "code",
   "execution_count": 8,
   "metadata": {},
   "outputs": [
    {
     "data": {
      "text/plain": [
       "(2, 2)"
      ]
     },
     "execution_count": 8,
     "metadata": {},
     "output_type": "execute_result"
    }
   ],
   "source": [
    "A.shape"
   ]
  },
  {
   "cell_type": "code",
   "execution_count": 9,
   "metadata": {},
   "outputs": [
    {
     "data": {
      "text/plain": [
       "(2, 3)"
      ]
     },
     "execution_count": 9,
     "metadata": {},
     "output_type": "execute_result"
    }
   ],
   "source": [
    "B.shape"
   ]
  },
  {
   "cell_type": "code",
   "execution_count": 10,
   "metadata": {},
   "outputs": [
    {
     "data": {
      "text/plain": [
       "array([[1., 2.],\n",
       "       [3., 4.]])"
      ]
     },
     "execution_count": 10,
     "metadata": {},
     "output_type": "execute_result"
    }
   ],
   "source": [
    "A.dot(np.eye(2))"
   ]
  },
  {
   "cell_type": "code",
   "execution_count": 11,
   "metadata": {},
   "outputs": [
    {
     "data": {
      "text/plain": [
       "array([[3., 4., 5.],\n",
       "       [6., 7., 8.]])"
      ]
     },
     "execution_count": 11,
     "metadata": {},
     "output_type": "execute_result"
    }
   ],
   "source": [
    "B.dot(np.eye(3))"
   ]
  },
  {
   "cell_type": "code",
   "execution_count": 12,
   "metadata": {},
   "outputs": [
    {
     "data": {
      "text/plain": [
       "array([[3., 4., 5.],\n",
       "       [6., 7., 8.]])"
      ]
     },
     "execution_count": 12,
     "metadata": {},
     "output_type": "execute_result"
    }
   ],
   "source": [
    "np.eye(2).dot(B)"
   ]
  },
  {
   "cell_type": "code",
   "execution_count": 14,
   "metadata": {},
   "outputs": [
    {
     "data": {
      "text/plain": [
       "array([[ 5, 11],\n",
       "       [11, 25]])"
      ]
     },
     "execution_count": 14,
     "metadata": {},
     "output_type": "execute_result"
    }
   ],
   "source": [
    "A.dot(A.T)"
   ]
  },
  {
   "cell_type": "code",
   "execution_count": 15,
   "metadata": {},
   "outputs": [
    {
     "data": {
      "text/plain": [
       "(2,)"
      ]
     },
     "execution_count": 15,
     "metadata": {},
     "output_type": "execute_result"
    }
   ],
   "source": [
    "u.shape"
   ]
  },
  {
   "cell_type": "code",
   "execution_count": 16,
   "metadata": {},
   "outputs": [
    {
     "data": {
      "text/plain": [
       "array([2, 5])"
      ]
     },
     "execution_count": 16,
     "metadata": {},
     "output_type": "execute_result"
    }
   ],
   "source": [
    "u.T"
   ]
  },
  {
   "cell_type": "code",
   "execution_count": 26,
   "metadata": {},
   "outputs": [
    {
     "data": {
      "text/plain": [
       "array([[2, 5]])"
      ]
     },
     "execution_count": 26,
     "metadata": {},
     "output_type": "execute_result"
    }
   ],
   "source": [
    "u[np.newaxis, :]"
   ]
  },
  {
   "cell_type": "markdown",
   "metadata": {},
   "source": [
    "1D array转换为row vector, np.newaxis表明在垂直方向上申请一个新的轴，水平方向上为原来的所有元素"
   ]
  },
  {
   "cell_type": "code",
   "execution_count": 30,
   "metadata": {},
   "outputs": [
    {
     "data": {
      "text/plain": [
       "array([[2],\n",
       "       [5]])"
      ]
     },
     "execution_count": 30,
     "metadata": {},
     "output_type": "execute_result"
    }
   ],
   "source": [
    "u[:, np.newaxis]"
   ]
  },
  {
   "cell_type": "markdown",
   "metadata": {},
   "source": [
    "1D array转换为column vector, 垂直方向上为原来的所有元素，水平方向上申请一个新的轴"
   ]
  },
  {
   "cell_type": "code",
   "execution_count": 31,
   "metadata": {},
   "outputs": [
    {
     "data": {
      "text/plain": [
       "array([[0.88867221],\n",
       "       [0.10065719],\n",
       "       [0.41234901],\n",
       "       [0.40128301],\n",
       "       [0.96195114],\n",
       "       [0.06472667],\n",
       "       [0.80162511],\n",
       "       [0.42371459],\n",
       "       [0.8199921 ],\n",
       "       [0.97829908],\n",
       "       [0.16906226],\n",
       "       [0.7171026 ],\n",
       "       [0.00687648],\n",
       "       [0.90032518],\n",
       "       [0.65667637],\n",
       "       [0.7704934 ],\n",
       "       [0.48049663],\n",
       "       [0.46637136],\n",
       "       [0.17056002],\n",
       "       [0.10548008],\n",
       "       [0.36425186],\n",
       "       [0.74918548],\n",
       "       [0.46420194],\n",
       "       [0.15703502],\n",
       "       [0.32587525],\n",
       "       [0.78113738],\n",
       "       [0.77086129],\n",
       "       [0.60123825],\n",
       "       [0.14738403],\n",
       "       [0.41786386],\n",
       "       [0.45098984],\n",
       "       [0.59131341],\n",
       "       [0.66362607],\n",
       "       [0.45369796],\n",
       "       [0.17501717],\n",
       "       [0.74059735],\n",
       "       [0.73197185],\n",
       "       [0.85829729],\n",
       "       [0.53455944],\n",
       "       [0.11862389],\n",
       "       [0.7031022 ],\n",
       "       [0.67873204],\n",
       "       [0.21566006],\n",
       "       [0.61544847],\n",
       "       [0.77224426],\n",
       "       [0.18156769],\n",
       "       [0.37855023],\n",
       "       [0.70233589],\n",
       "       [0.23568968],\n",
       "       [0.84996824],\n",
       "       [0.38766235],\n",
       "       [0.04637474],\n",
       "       [0.89736961],\n",
       "       [0.39121433],\n",
       "       [0.05355066],\n",
       "       [0.70576147],\n",
       "       [0.96725719],\n",
       "       [0.56603326],\n",
       "       [0.84023199],\n",
       "       [0.96873988],\n",
       "       [0.23445539],\n",
       "       [0.97442535],\n",
       "       [0.40699137],\n",
       "       [0.7929042 ],\n",
       "       [0.17711081],\n",
       "       [0.84438444],\n",
       "       [0.26885162],\n",
       "       [0.14038372],\n",
       "       [0.34123992],\n",
       "       [0.7712387 ],\n",
       "       [0.58883979],\n",
       "       [0.03304584],\n",
       "       [0.23587628],\n",
       "       [0.32075583],\n",
       "       [0.43703624],\n",
       "       [0.90016301],\n",
       "       [0.74828591],\n",
       "       [0.83708774],\n",
       "       [0.2112592 ],\n",
       "       [0.47650845],\n",
       "       [0.39242871],\n",
       "       [0.99218156],\n",
       "       [0.03192061],\n",
       "       [0.62214057],\n",
       "       [0.99629804],\n",
       "       [0.79163253],\n",
       "       [0.92624681],\n",
       "       [0.06469011],\n",
       "       [0.90675967],\n",
       "       [0.43043698],\n",
       "       [0.15810546],\n",
       "       [0.46280656],\n",
       "       [0.24175562],\n",
       "       [0.1465637 ],\n",
       "       [0.04130499],\n",
       "       [0.98486496],\n",
       "       [0.63187355],\n",
       "       [0.59925247],\n",
       "       [0.44884656],\n",
       "       [0.2247452 ]])"
      ]
     },
     "execution_count": 31,
     "metadata": {},
     "output_type": "execute_result"
    }
   ],
   "source": [
    "np.random.rand(100, 1)"
   ]
  },
  {
   "cell_type": "code",
   "execution_count": null,
   "metadata": {},
   "outputs": [],
   "source": []
  }
 ],
 "metadata": {
  "kernelspec": {
   "display_name": "Python 3",
   "language": "python",
   "name": "python3"
  },
  "language_info": {
   "codemirror_mode": {
    "name": "ipython",
    "version": 3
   },
   "file_extension": ".py",
   "mimetype": "text/x-python",
   "name": "python",
   "nbconvert_exporter": "python",
   "pygments_lexer": "ipython3",
   "version": "3.6.4"
  }
 },
 "nbformat": 4,
 "nbformat_minor": 2
}
