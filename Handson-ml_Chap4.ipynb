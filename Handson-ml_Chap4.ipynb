{
 "cells": [
  {
   "cell_type": "code",
   "execution_count": 1,
   "metadata": {},
   "outputs": [],
   "source": [
    "import numpy as np\n",
    "from sklearn import linear_model"
   ]
  },
  {
   "cell_type": "code",
   "execution_count": 2,
   "metadata": {},
   "outputs": [],
   "source": [
    "np.random.seed(1412)\n",
    "x1 = np.random.rand(100, 1)\n",
    "x2 = np.random.rand(100, 1)\n",
    "x3 = np.random.rand(100, 1)\n",
    "epsilon = np.random.randn(100, 1)\n",
    "y = 5 + 3*x1 - 2*x2 + 4*x3 + epsilon"
   ]
  },
  {
   "cell_type": "markdown",
   "metadata": {},
   "source": [
    "注意rand和randn两个不同函数"
   ]
  },
  {
   "cell_type": "code",
   "execution_count": 3,
   "metadata": {},
   "outputs": [],
   "source": [
    "X = np.c_[x1, x2, x3]\n",
    "X_d = np.c_[np.ones((100, 1)), x1, x2, x3]"
   ]
  },
  {
   "cell_type": "code",
   "execution_count": 4,
   "metadata": {},
   "outputs": [
    {
     "data": {
      "text/plain": [
       "(100, 4)"
      ]
     },
     "execution_count": 4,
     "metadata": {},
     "output_type": "execute_result"
    }
   ],
   "source": [
    "X_d.shape"
   ]
  },
  {
   "cell_type": "markdown",
   "metadata": {},
   "source": [
    "## 正规方程 Normal Equation  \n",
    "闭式解  \n",
    "$\\hat{\\theta} \\ =\\ (X^T \\cdot X)^{-1} \\cdot X^T \\cdot y$"
   ]
  },
  {
   "cell_type": "code",
   "execution_count": 5,
   "metadata": {},
   "outputs": [
    {
     "data": {
      "text/plain": [
       "array([[ 4.62437815],\n",
       "       [ 2.56483867],\n",
       "       [-1.0514842 ],\n",
       "       [ 4.52834915]])"
      ]
     },
     "execution_count": 5,
     "metadata": {},
     "output_type": "execute_result"
    }
   ],
   "source": [
    "theta_hat = np.linalg.inv(X_d.T.dot(X_d)).dot(X_d.T).dot(y)\n",
    "theta_hat"
   ]
  },
  {
   "cell_type": "code",
   "execution_count": 6,
   "metadata": {},
   "outputs": [
    {
     "data": {
      "text/plain": [
       "LinearRegression(copy_X=True, fit_intercept=True, n_jobs=None,\n",
       "         normalize=False)"
      ]
     },
     "execution_count": 6,
     "metadata": {},
     "output_type": "execute_result"
    }
   ],
   "source": [
    "lm = linear_model.LinearRegression()\n",
    "lm.fit(X, y)"
   ]
  },
  {
   "cell_type": "code",
   "execution_count": 7,
   "metadata": {},
   "outputs": [
    {
     "name": "stdout",
     "output_type": "stream",
     "text": [
      "[[ 2.56483867 -1.0514842   4.52834915]]\n",
      "[4.62437815]\n"
     ]
    }
   ],
   "source": [
    "print(lm.coef_)\n",
    "print(lm.intercept_)"
   ]
  },
  {
   "cell_type": "markdown",
   "metadata": {},
   "source": [
    "## 批量梯度下降 Batch Gradient Descent\n",
    "\n",
    "$\\frac{\\partial}{\\partial{\\theta_j}} MSE(\\theta)\\ =\\ \\frac{2}{n} \\sum\\limits_{i=1}^n ({\\theta}^T \\cdot \\mathbf{x}^{(i)} - y^{(i)})x_j^{(i)}$  \n",
    "\n",
    "${\\nabla}_{\\theta} MSE(\\theta)\\ =\\ \\frac{2}{n} \\mathbf{X}^T \\cdot (\\mathbf{X} \\cdot {\\theta} - y)$  \n",
    "\n",
    "其中：  \n",
    "n是观测数"
   ]
  },
  {
   "cell_type": "code",
   "execution_count": 8,
   "metadata": {},
   "outputs": [],
   "source": [
    "eta = 0.1\n",
    "n_iterations = 10000\n",
    "n = 100\n",
    "\n",
    "theta = np.random.randn(4, 1)\n",
    "\n",
    "for iteration in range(n_iterations):\n",
    "    gradients = 2/n * X_d.T.dot(X_d.dot(theta) - y)\n",
    "    theta = theta - eta*gradients"
   ]
  },
  {
   "cell_type": "code",
   "execution_count": 9,
   "metadata": {},
   "outputs": [
    {
     "data": {
      "text/plain": [
       "array([[ 4.62437815],\n",
       "       [ 2.56483867],\n",
       "       [-1.0514842 ],\n",
       "       [ 4.52834915]])"
      ]
     },
     "execution_count": 9,
     "metadata": {},
     "output_type": "execute_result"
    }
   ],
   "source": [
    "theta"
   ]
  },
  {
   "cell_type": "markdown",
   "metadata": {},
   "source": [
    "## 随机梯度下降 Stochastic  Gradient Descent\n",
    "每一步的梯度计算只随机地选择训练集中的一个样本点"
   ]
  },
  {
   "cell_type": "code",
   "execution_count": 10,
   "metadata": {},
   "outputs": [],
   "source": [
    "def learning_schedule(t):\n",
    "    return t0 / (t + t1)\n",
    "\n",
    "n_epochs = 50\n",
    "t0, t1 = 5, 50\n",
    "n = 100\n",
    "\n",
    "theta = np.random.randn(4, 1)\n",
    "\n",
    "for epoch in range(n_epochs):\n",
    "    for i in range(n):\n",
    "        random_index = np.random.randint(n)\n",
    "        # X_d[random_index] is WRONG, shape uncorrect\n",
    "        xi = X_d[random_index:random_index+1]\n",
    "        yi = y[random_index:random_index+1]\n",
    "        gradients = 2 * xi.T.dot(xi.dot(theta) - yi)\n",
    "        eta = learning_schedule(epoch * n + i)\n",
    "        theta = theta - eta*gradients"
   ]
  },
  {
   "cell_type": "code",
   "execution_count": 11,
   "metadata": {},
   "outputs": [
    {
     "data": {
      "text/plain": [
       "array([[ 4.38637306],\n",
       "       [ 2.69019259],\n",
       "       [-0.96320148],\n",
       "       [ 4.598701  ]])"
      ]
     },
     "execution_count": 11,
     "metadata": {},
     "output_type": "execute_result"
    }
   ],
   "source": [
    "theta"
   ]
  },
  {
   "cell_type": "markdown",
   "metadata": {},
   "source": [
    "习惯上来讲，每一轮我们迭代n次，这样的一轮称为epoch。上述的批量随机下降BGD需要遍历整个训练集进行1000次迭代才能得到一个好的解，而随机梯度下降SGD只需要遍历训练集50次就能达到差不多的效果。  \n",
    "BGD进行了1000次迭代，每次迭代都要用到完整的训练集  \n",
    "SGD每一个epoch迭代了n次，用到一次完整的训练集，所以总共遍历训练集差不多是50次"
   ]
  },
  {
   "cell_type": "code",
   "execution_count": 12,
   "metadata": {},
   "outputs": [
    {
     "name": "stdout",
     "output_type": "stream",
     "text": [
      "[4.60206461]\n",
      "[ 2.56352674 -1.03241904  4.52833282]\n"
     ]
    },
    {
     "name": "stderr",
     "output_type": "stream",
     "text": [
      "F:\\Program_Files\\Anaconda\\lib\\site-packages\\sklearn\\linear_model\\stochastic_gradient.py:152: DeprecationWarning: n_iter parameter is deprecated in 0.19 and will be removed in 0.21. Use max_iter and tol instead.\n",
      "  DeprecationWarning)\n"
     ]
    }
   ],
   "source": [
    "sgd_reg = linear_model.SGDRegressor(n_iter=50, penalty=None, eta0=0.1)\n",
    "# y.ravel() convert (100, 1) to (100, )\n",
    "sgd_reg.fit(X, y.ravel())\n",
    "print(sgd_reg.intercept_)\n",
    "print(sgd_reg.coef_)"
   ]
  },
  {
   "cell_type": "markdown",
   "metadata": {},
   "source": [
    "## Mini-Batch Gradient Descent"
   ]
  },
  {
   "cell_type": "code",
   "execution_count": 13,
   "metadata": {},
   "outputs": [],
   "source": [
    "import math\n",
    "\n",
    "def learning_schedule(t):\n",
    "    return t0 / (t + t1)\n",
    "\n",
    "eta = 0.01\n",
    "t0 = 200\n",
    "t1 = 1000\n",
    "n_epochs = 50\n",
    "n = 100\n",
    "n_batches = 5\n",
    "instance_per_batch = math.ceil(n / n_batches)\n",
    "\n",
    "theta = np.random.randn(4, 1)\n",
    "\n",
    "for epoch in range(n_epochs):\n",
    "    for i in range(n_batches):\n",
    "        random_index = np.random.randint(n, size=instance_per_batch)\n",
    "        xi = X_d[random_index]\n",
    "        yi = y[random_index]\n",
    "        gradients = 2 * xi.T.dot(xi.dot(theta) - yi)\n",
    "        # should chage eta each iter\n",
    "        # eta = learning_schedule(t)\n",
    "        theta = theta - eta*gradients"
   ]
  },
  {
   "cell_type": "code",
   "execution_count": 14,
   "metadata": {},
   "outputs": [
    {
     "data": {
      "text/plain": [
       "array([[ 4.57856137],\n",
       "       [ 2.42528521],\n",
       "       [-1.007242  ],\n",
       "       [ 4.41680693]])"
      ]
     },
     "execution_count": 14,
     "metadata": {},
     "output_type": "execute_result"
    }
   ],
   "source": [
    "theta"
   ]
  },
  {
   "cell_type": "markdown",
   "metadata": {},
   "source": [
    "## 多项式回归"
   ]
  },
  {
   "cell_type": "code",
   "execution_count": 15,
   "metadata": {},
   "outputs": [
    {
     "data": {
      "image/png": "[encoded data removed]",
      "text/plain": [
       "<matplotlib.figure.Figure at 0x1ea21534860>"
      ]
     },
     "metadata": {},
     "output_type": "display_data"
    }
   ],
   "source": [
    "% matplotlib inline\n",
    "import matplotlib\n",
    "import matplotlib.pyplot as plt\n",
    "\n",
    "n = 100\n",
    "np.random.seed(1412)\n",
    "X = 6 * np.random.rand(n, 1) - 3\n",
    "y = 0.5 * X**2 + X + 2 + np.random.randn(n, 1)\n",
    "\n",
    "plt.scatter(X, y)\n",
    "plt.xlabel(\"x\")\n",
    "plt.ylabel(\"y\")\n",
    "plt.show()"
   ]
  },
  {
   "cell_type": "code",
   "execution_count": 16,
   "metadata": {},
   "outputs": [
    {
     "name": "stdout",
     "output_type": "stream",
     "text": [
      "[1.97836333]\n",
      "[[0.99143834 0.46597934]]\n"
     ]
    }
   ],
   "source": [
    "from sklearn.preprocessing import PolynomialFeatures\n",
    "\n",
    "poly_features = PolynomialFeatures(degree=2, include_bias=False)\n",
    "X_poly = poly_features.fit_transform(X)\n",
    "poly_reg = linear_model.LinearRegression()\n",
    "poly_reg.fit(X_poly, y)\n",
    "print(poly_reg.intercept_)\n",
    "print(poly_reg.coef_)"
   ]
  },
  {
   "cell_type": "code",
   "execution_count": 17,
   "metadata": {},
   "outputs": [
    {
     "data": {
      "image/png": "[encoded data removed]",
      "text/plain": [
       "<matplotlib.figure.Figure at 0x1ea1f591be0>"
      ]
     },
     "metadata": {},
     "output_type": "display_data"
    },
    {
     "name": "stdout",
     "output_type": "stream",
     "text": [
      "       2\n",
      "0.466 x + 0.9914 x + 1.978\n"
     ]
    }
   ],
   "source": [
    "coef = list(poly_reg.coef_[0,:])[::-1]\n",
    "coef.append(poly_reg.intercept_[0])\n",
    "# 或使用np.polyfit来获取多项式系数，降幂排列，包括0次项(截距)\n",
    "# coef = np.polyfit(X.ravel(), y.ravel(), deg=2)\n",
    "f = np.poly1d(coef)\n",
    "x_new = np.linspace(min(X), max(X), 1000)\n",
    "y_new = f(x_new)\n",
    "plt.scatter(X, y)\n",
    "plt.plot(x_new, y_new, \"r\", label=\"Prediction\")\n",
    "plt.xlabel(\"x\")\n",
    "plt.ylabel(\"y\")\n",
    "plt.legend()\n",
    "plt.show()\n",
    "\n",
    "print(np.poly1d(f))"
   ]
  },
  {
   "cell_type": "markdown",
   "metadata": {},
   "source": [
    "##  学习曲线"
   ]
  },
  {
   "cell_type": "code",
   "execution_count": 18,
   "metadata": {},
   "outputs": [],
   "source": [
    "from sklearn.metrics import mean_squared_error\n",
    "from sklearn.model_selection import train_test_split\n",
    "\n",
    "def plot_learning_curve(model, X, y):\n",
    "    X_train, X_val, y_train, y_val = train_test_split(\n",
    "        X, y, test_size=0.2, random_state=14\n",
    "    )\n",
    "    train_errors = []\n",
    "    test_errors = []\n",
    "    for n in range(1, len(X_train)):\n",
    "        model.fit(X_train[:n], y_train[:n])\n",
    "        y_train_pred = model.predict(X_train[:n])\n",
    "        y_test_pred = model.predict(X_val)\n",
    "        train_errors.append(mean_squared_error(y_train_pred, y_train[:n]))\n",
    "        test_errors.append(mean_squared_error(y_test_pred, y_val))\n",
    "    plt.plot(np.sqrt(train_errors), \"r-+\", linewidth=2, label=\"Training set\")\n",
    "    plt.plot(np.sqrt(test_errors), \"b-\", linewidth=2, label=\"Validation set\")\n",
    "    plt.xlabel(\"Training set size\")\n",
    "    plt.ylabel(\"RMSE\")\n",
    "    plt.legend()"
   ]
  },
  {
   "cell_type": "code",
   "execution_count": 19,
   "metadata": {},
   "outputs": [
    {
     "data": {
      "text/plain": [
       "(0, 3)"
      ]
     },
     "execution_count": 19,
     "metadata": {},
     "output_type": "execute_result"
    },
    {
     "data": {
      "image/png": "[encoded data removed]",
      "text/plain": [
       "<matplotlib.figure.Figure at 0x1ea217d3dd8>"
      ]
     },
     "metadata": {},
     "output_type": "display_data"
    }
   ],
   "source": [
    "lm = linear_model.LinearRegression()\n",
    "plot_learning_curve(lm, X, y)\n",
    "plt.ylim([0, 3])"
   ]
  },
  {
   "cell_type": "markdown",
   "metadata": {},
   "source": [
    "图3-3. 简单线性模型的学习曲线"
   ]
  },
  {
   "cell_type": "code",
   "execution_count": 20,
   "metadata": {},
   "outputs": [],
   "source": [
    "from sklearn.pipeline import Pipeline\n",
    "\n",
    "poly10_reg = Pipeline((\n",
    "    (\"polt_features\", PolynomialFeatures(degree=10, include_bias=False)),\n",
    "    (\"poly_\", linear_model.LinearRegression())\n",
    "))"
   ]
  },
  {
   "cell_type": "code",
   "execution_count": 21,
   "metadata": {
    "scrolled": true
   },
   "outputs": [
    {
     "data": {
      "image/png": "[encoded data removed]",
      "text/plain": [
       "<matplotlib.figure.Figure at 0x1ea1e359320>"
      ]
     },
     "metadata": {},
     "output_type": "display_data"
    }
   ],
   "source": [
    "plot_learning_curve(poly10_reg, X, y)"
   ]
  },
  {
   "cell_type": "markdown",
   "metadata": {},
   "source": [
    "图3-4"
   ]
  },
  {
   "cell_type": "code",
   "execution_count": 22,
   "metadata": {},
   "outputs": [
    {
     "data": {
      "text/plain": [
       "(0, 3)"
      ]
     },
     "execution_count": 22,
     "metadata": {},
     "output_type": "execute_result"
    },
    {
     "data": {
      "image/png": "[encoded data removed]",
      "text/plain": [
       "<matplotlib.figure.Figure at 0x1ea2186d550>"
      ]
     },
     "metadata": {},
     "output_type": "display_data"
    }
   ],
   "source": [
    "plot_learning_curve(poly10_reg, X, y)\n",
    "plt.ylim([0, 3])"
   ]
  },
  {
   "cell_type": "markdown",
   "metadata": {},
   "source": [
    "图3-5. 十次多项式的学习曲线，上面两图是一样的。"
   ]
  },
  {
   "cell_type": "code",
   "execution_count": 23,
   "metadata": {},
   "outputs": [
    {
     "data": {
      "text/plain": [
       "(0, 3)"
      ]
     },
     "execution_count": 23,
     "metadata": {},
     "output_type": "execute_result"
    },
    {
     "data": {
      "image/png": "[encoded data removed]",
      "text/plain": [
       "<matplotlib.figure.Figure at 0x1ea21906978>"
      ]
     },
     "metadata": {},
     "output_type": "display_data"
    }
   ],
   "source": [
    "poly2_reg = Pipeline((\n",
    "    (\"polt_features\", PolynomialFeatures(degree=2, include_bias=False)),\n",
    "    (\"poly_\", linear_model.LinearRegression())\n",
    "))\n",
    "\n",
    "plot_learning_curve(poly2_reg, X, y)\n",
    "plt.ylim([0, 3])"
   ]
  },
  {
   "cell_type": "markdown",
   "metadata": {},
   "source": [
    "图3-6. 二项式模型的学习曲线"
   ]
  },
  {
   "cell_type": "markdown",
   "metadata": {},
   "source": [
    "如何判断一个模型的泛化能力呢(是过拟合，还是欠拟合)  \n",
    "1. 可以使用交叉验证的方法，如果模型在训练集上表现好于交叉验证(交叉验证评价了测试误差)的结果，说明模型过拟合；如果模型在训练集和交叉验证上都表现很差，说明它欠拟合  \n",
    "2. 使用学习曲线  \n",
    "图3-3到3-6每一个模型都是使用相同的训练集和验证集，随着训练集样本数量的增加，RMSE从0开始增加，最后趋于稳定。  \n",
    "a.3-6是二项式模型，是真实模型，它的训练误差在1左右，验证误差在1.5左右  \n",
    "b.3-3是线性模型，虽然训练和验证误差接近(1.7和2.1)，但二者都略高于二项式模型，所以存在欠拟合的情况  \n",
    "c.3-4、3-5是十次多项式模型，它的训练误差明显好于验证误差(0.8和1.8)，所以存在过拟合的情况  \n",
    "\n",
    "个人认为，上述4副图中，结果的差异不是很明显(1和1.5，1.5和2的差距不是很大)，但是理论上模型的泛化好坏可以用上面的方法大致判断"
   ]
  },
  {
   "cell_type": "markdown",
   "metadata": {},
   "source": [
    "### 偏差与方差的权衡  \n",
    "ISLR p23"
   ]
  },
  {
   "cell_type": "markdown",
   "metadata": {},
   "source": [
    "偏差指的是为了选择一个简单的模型逼近真实函数而被带入的误差。描述的是算法预测的平均值与真实值之间的关系(可理解为算法的拟合能力)  \n",
    "方差代表的是用不同的训练集估计$f$时，估计函数的改变量。描述的是同一算法在不同数据集上的预测值与平均预测值之间的关系(可理解为算法的稳定性)"
   ]
  },
  {
   "cell_type": "markdown",
   "metadata": {},
   "source": [
    "$E({y_0} - \\hat{f}({x_0}))^2 \\ =\\ Var(\\hat{f}({x_0})) + [Bias(\\hat{f}({x_0}))]^2 + Var(\\epsilon)$"
   ]
  },
  {
   "cell_type": "markdown",
   "metadata": {},
   "source": [
    "其中"
   ]
  },
  {
   "cell_type": "markdown",
   "metadata": {},
   "source": [
    "$Var(\\hat{f}({x_0})) \\ =\\ E(\\hat{f}({x_0})^2) + [E(\\hat{f}({x_0})]^2$  \n",
    "$[Bias(\\hat{f}({x_0}))]^2 \\ =\\ [f({x_0}) - E(\\hat{f}({x_0}))]^2$"
   ]
  },
  {
   "cell_type": "code",
   "execution_count": null,
   "metadata": {},
   "outputs": [],
   "source": []
  }
 ],
 "metadata": {
  "kernelspec": {
   "display_name": "Python 3",
   "language": "python",
   "name": "python3"
  },
  "language_info": {
   "codemirror_mode": {
    "name": "ipython",
    "version": 3
   },
   "file_extension": ".py",
   "mimetype": "text/x-python",
   "name": "python",
   "nbconvert_exporter": "python",
   "pygments_lexer": "ipython3",
   "version": "3.6.4"
  }
 },
 "nbformat": 4,
 "nbformat_minor": 2
}
